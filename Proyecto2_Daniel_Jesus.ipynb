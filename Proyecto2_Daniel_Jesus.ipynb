{
 "cells": [
  {
   "cell_type": "markdown",
   "id": "2000a1b7-84d8-4841-bf35-d7770dd3e0ab",
   "metadata": {},
   "source": [
    "___\n",
    "## 1. Entregable.\n",
    "Los trabajos deben tener los siguientes componentes básicos.\n",
    "\n",
    "### 1.1 Centro de gravedad.\n",
    "> Debe describir el trabajo.\n",
    "\n",
    "### 1.2 Introducción\n",
    "> En muchas ocasiones en el trabajo de figuras fisicas en analisis estatico se requieren analizar como afectan las fuerzas aplicadas a un sistema, es por eso que es importante conocer dicho sistema partiendo por su centro de gravedad conociendo su densidad superficial.\n",
    "\n",
    "\n",
    "### 1.3 Objetivos.\n",
    "> - Se refieren a los propósitos por los cuales se hace el trabajo.\n",
    "> - Deben ser concretos, evaluables y verificables.\n",
    "> - Deben ser escritos en infinitivo.\n",
    "> #### 1.1 Objetivo general.\n",
    ">  - Fin último de estudio. Se formula atendiendo el propósito global del trabajo. No presenta detalles.\n",
    ">  - Se orienta a la totalidad del trabajo. Tiene que ver con el título del trabajo.\n",
    "> #### 1.2 Objetivos específicos\n",
    ">  - De forma detallada describen cada una de los componentes del trabajo.\n",
    ">  - En conjunto garantizan la consecución del objetivo general.\n",
    "\n",
    "Referencia:\n",
    "- https://es.slideshare.net/rosbur/metodologia-objetivos-generales-y-especficos\n",
    "\n",
    "### 1.4 Modelo que representa el problema.\n",
    "> - Se debe incluir las ecuaciones que rigen el sistema que se está estudiando.\n",
    "> - Deducción del modelo. Explicación detallada de las ecuaciones de acuerdo al problema que se quiera resolver o modelo que se quiera representar.\n",
    "> - ¿Qué situación representa el modelo? ¿Cuáles son las limitaciones fundamentales?\n",
    "> - Significado y valor de los parámetros (constantes que aparezcan en el modelo).\n",
    "\n",
    "### 1.5 Solución del problema.\n",
    "> - Se debe resolver el problema.\n",
    "> - ¿Condujo el algoritmo a una solución factible?\n",
    "\n",
    "### 1.6 Visualización de la solución del problema.\n",
    "> Se deben mostrar gráficas y/o tablas que ilustren de forma adecuada los resultados. No olviden etiquetar los ejes y si se tienen varias curvas en una sola gráfica también etiquetarlas (ojo: que las curvas se puedan diferenciar con colores y estilos de línea).\n",
    "\n",
    "### 1.7 Conclusiones.\n",
    "> Mucho cuidado, las conclusiones no son cualquier cosa. Se debe concluir respecto a los objetivos planteados de acuerdo a los resultados obtenidos.\n",
    "\n",
    "### 1.8 Referencias.\n",
    "> Citar (en formato APA) la bibliografía utilizada."
   ]
  },
  {
   "cell_type": "markdown",
   "id": "eb967152-f7f2-45c4-a388-a5e7cc573e49",
   "metadata": {},
   "source": [
    "# AQUI VA DANIEL INTEGRALES DOBLES"
   ]
  },
  {
   "cell_type": "code",
   "execution_count": 79,
   "id": "8f8ed2cd-bea8-4d99-96e3-949ef674188d",
   "metadata": {
    "tags": []
   },
   "outputs": [
    {
     "data": {
      "text/plain": [
       "0.0008"
      ]
     },
     "execution_count": 79,
     "metadata": {},
     "output_type": "execute_result"
    }
   ],
   "source": [
    "import numpy as np\n",
    "import pandas as pd\n",
    "\n",
    "def m1(f, a, b, N):\n",
    "    x = np.random.uniform(a, b, N)\n",
    "    integral = ((b-a)/N)*np.sum(f(x))\n",
    "    return integral\n",
    "\n",
    "def f(x):\n",
    "    return 10\n",
    "\n",
    "N = np.logspace(0, 5, 6).astype(int)\n",
    "a=0\n",
    "b=8\n",
    "\n",
    "for n in N:\n",
    "    integ = m1(f, a, b, n)\n",
    "    \n",
    "integ"
   ]
  },
  {
   "cell_type": "markdown",
   "id": "0c2677a5-a0d9-4f3e-b946-7f53e1653b4e",
   "metadata": {},
   "source": [
    "# AQUI VA MORRIS FRACTALES"
   ]
  },
  {
   "cell_type": "code",
   "execution_count": null,
   "id": "c55560bf-6d12-438e-9288-c9ebf16398c7",
   "metadata": {},
   "outputs": [],
   "source": []
  }
 ],
 "metadata": {
  "kernelspec": {
   "display_name": "Python 3 (ipykernel)",
   "language": "python",
   "name": "python3"
  },
  "language_info": {
   "codemirror_mode": {
    "name": "ipython",
    "version": 3
   },
   "file_extension": ".py",
   "mimetype": "text/x-python",
   "name": "python",
   "nbconvert_exporter": "python",
   "pygments_lexer": "ipython3",
   "version": "3.11.4"
  }
 },
 "nbformat": 4,
 "nbformat_minor": 5
}
