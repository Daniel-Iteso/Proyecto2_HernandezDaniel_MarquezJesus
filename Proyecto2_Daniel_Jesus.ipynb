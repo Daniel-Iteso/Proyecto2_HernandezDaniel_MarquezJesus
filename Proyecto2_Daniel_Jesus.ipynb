{
 "cells": [
  {
   "cell_type": "markdown",
   "id": "2000a1b7-84d8-4841-bf35-d7770dd3e0ab",
   "metadata": {},
   "source": [
    "___\n",
    "## 1. Entregable.\n",
    "Los trabajos deben tener los siguientes componentes básicos.\n",
    "\n",
    "### 1.1 Centro de gravedad.\n",
    "> Debe describir el trabajo.\n",
    "\n",
    "### 1.2 Introducción\n",
    "> En muchas ocasiones en el trabajo de figuras fisicas en analisis estatico se requieren analizar como afectan las fuerzas aplicadas a un sistema, es por eso que es importante conocer dicho sistema partiendo por su centro de gravedad conociendo su densidad superficial.\n",
    "\n",
    "\n",
    "### 1.3 Objetivos.\n",
    "> - Se refieren a los propósitos por los cuales se hace el trabajo.\n",
    "> - Deben ser concretos, evaluables y verificables.\n",
    "> - Deben ser escritos en infinitivo.\n",
    "> #### 1.1 Objetivo general.\n",
    ">  - Fin último de estudio. Se formula atendiendo el propósito global del trabajo. No presenta detalles.\n",
    ">  - Se orienta a la totalidad del trabajo. Tiene que ver con el título del trabajo.\n",
    "> #### 1.2 Objetivos específicos\n",
    ">  - De forma detallada describen cada una de los componentes del trabajo.\n",
    ">  - En conjunto garantizan la consecución del objetivo general.\n",
    "\n",
    "Referencia:\n",
    "- https://es.slideshare.net/rosbur/metodologia-objetivos-generales-y-especficos\n",
    "\n",
    "### 1.4 Modelo que representa el problema.\n",
    "> - Se debe incluir las ecuaciones que rigen el sistema que se está estudiando.\n",
    "> - Deducción del modelo. Explicación detallada de las ecuaciones de acuerdo al problema que se quiera resolver o modelo que se quiera representar.\n",
    "> - ¿Qué situación representa el modelo? ¿Cuáles son las limitaciones fundamentales?\n",
    "> - Significado y valor de los parámetros (constantes que aparezcan en el modelo).\n",
    "\n",
    "### 1.5 Solución del problema.\n",
    "> - Se debe resolver el problema.\n",
    "> - ¿Condujo el algoritmo a una solución factible?\n",
    "\n",
    "### 1.6 Visualización de la solución del problema.\n",
    "> Se deben mostrar gráficas y/o tablas que ilustren de forma adecuada los resultados. No olviden etiquetar los ejes y si se tienen varias curvas en una sola gráfica también etiquetarlas (ojo: que las curvas se puedan diferenciar con colores y estilos de línea).\n",
    "\n",
    "### 1.7 Conclusiones.\n",
    "> Mucho cuidado, las conclusiones no son cualquier cosa. Se debe concluir respecto a los objetivos planteados de acuerdo a los resultados obtenidos.\n",
    "\n",
    "### 1.8 Referencias.\n",
    "> Citar (en formato APA) la bibliografía utilizada."
   ]
  },
  {
   "cell_type": "code",
   "execution_count": 5,
   "id": "8f8ed2cd-bea8-4d99-96e3-949ef674188d",
   "metadata": {
    "tags": []
   },
   "outputs": [
    {
     "ename": "TypeError",
     "evalue": "float() argument must be a string or a real number, not 'function'",
     "output_type": "error",
     "traceback": [
      "\u001b[1;31m---------------------------------------------------------------------------\u001b[0m",
      "\u001b[1;31mTypeError\u001b[0m                                 Traceback (most recent call last)",
      "Cell \u001b[1;32mIn[5], line 20\u001b[0m\n\u001b[0;32m     15\u001b[0m \u001b[38;5;66;03m#tabla2 = pd.DataFrame(index=N, columns = ['Aprox f1', 'Aprox f2', 'Aprox f3'])\u001b[39;00m\n\u001b[0;32m     16\u001b[0m \n\u001b[0;32m     17\u001b[0m \u001b[38;5;66;03m#tabla2.index.name = 'Cantidad de términos'\u001b[39;00m\n\u001b[0;32m     19\u001b[0m \u001b[38;5;28;01mfor\u001b[39;00m n \u001b[38;5;129;01min\u001b[39;00m N:\n\u001b[1;32m---> 20\u001b[0m     aprox_f1 \u001b[38;5;241m=\u001b[39m montecarlo1(f1, \u001b[38;5;241m0\u001b[39m, f2, n)\n\u001b[0;32m     21\u001b[0m     \u001b[38;5;66;03m#aprox_f2 = montecarlo1(f2, a, b, n)\u001b[39;00m\n\u001b[0;32m     22\u001b[0m     \u001b[38;5;66;03m#aprox_f3 = montecarlo1(f3, a, b, n)\u001b[39;00m\n\u001b[0;32m     23\u001b[0m     \n\u001b[0;32m     24\u001b[0m     \u001b[38;5;66;03m#tabla2.loc[n, 'Aprox f1'] = aprox_f1\u001b[39;00m\n\u001b[0;32m     25\u001b[0m     \u001b[38;5;66;03m#tabla2.loc[n, 'Aprox f2'] = aprox_f2\u001b[39;00m\n\u001b[0;32m     26\u001b[0m     \u001b[38;5;66;03m#tabla2.loc[n, 'Aprox f3'] = aprox_f3\u001b[39;00m\n\u001b[0;32m     28\u001b[0m aprox_f1\n",
      "Cell \u001b[1;32mIn[5], line 5\u001b[0m, in \u001b[0;36mmontecarlo1\u001b[1;34m(f, a, b, N)\u001b[0m\n\u001b[0;32m      4\u001b[0m \u001b[38;5;28;01mdef\u001b[39;00m \u001b[38;5;21mmontecarlo1\u001b[39m(f, a, b, N):\n\u001b[1;32m----> 5\u001b[0m     ui \u001b[38;5;241m=\u001b[39m np\u001b[38;5;241m.\u001b[39mrandom\u001b[38;5;241m.\u001b[39muniform(a, b, N)\n\u001b[0;32m      6\u001b[0m     integral \u001b[38;5;241m=\u001b[39m ((b\u001b[38;5;241m-\u001b[39ma)\u001b[38;5;241m/\u001b[39mN)\u001b[38;5;241m*\u001b[39mnp\u001b[38;5;241m.\u001b[39msum(f(ui))\n\u001b[0;32m      7\u001b[0m     \u001b[38;5;28;01mreturn\u001b[39;00m integral\n",
      "File \u001b[1;32mmtrand.pyx:1132\u001b[0m, in \u001b[0;36mnumpy.random.mtrand.RandomState.uniform\u001b[1;34m()\u001b[0m\n",
      "\u001b[1;31mTypeError\u001b[0m: float() argument must be a string or a real number, not 'function'"
     ]
    }
   ],
   "source": [
    "import numpy as np\n",
    "import pandas as pd\n",
    "\n",
    "def montecarlo1(f, a, b, N):\n",
    "    ui = np.random.uniform(a, b, N)\n",
    "    integral = ((b-a)/N)*np.sum(f(ui))\n",
    "    return integral\n",
    "def f1(y):\n",
    "    return y\n",
    "\n",
    "N = np.logspace(0, 5, 6).astype(int)\n",
    "\n",
    "#tabla2 = pd.DataFrame(index=N, columns = ['Aprox f1', 'Aprox f2', 'Aprox f3'])\n",
    "\n",
    "#tabla2.index.name = 'Cantidad de términos'\n",
    "\n",
    "for n in N:\n",
    "    aprox_f1 = montecarlo1(f1, 0, x**(2/3), n)\n",
    "    #aprox_f2 = montecarlo1(f2, a, b, n)\n",
    "    #aprox_f3 = montecarlo1(f3, a, b, n)\n",
    "    \n",
    "    #tabla2.loc[n, 'Aprox f1'] = aprox_f1\n",
    "    #tabla2.loc[n, 'Aprox f2'] = aprox_f2\n",
    "    #tabla2.loc[n, 'Aprox f3'] = aprox_f3\n",
    "    \n",
    "aprox_f1    \n",
    "#tabla2"
   ]
  },
  {
   "cell_type": "markdown",
   "id": "e1811ee6-9150-4706-bc5b-3b17afa7da77",
   "metadata": {},
   "source": [
    "### 2) Solucionar por medio de la aproximación montecarlo algún problema físico que se modele con integrales múltiples (dobles, triples, etc) \n",
    "\n",
    "### 3) Cualquier problema de probabilidad, analizarlo por medio de simulación montecarlo. (Casino y apostador)\n",
    "\n",
    "### 4) Problema Monty Hall (ver enlaces para explicación del problema)\n",
    " > - https://en.wikipedia.org/wiki/Monty_Hall_problem\n",
    " > - https://www.youtube.com/watch?v=1BpTBzDQuRE\n",
    "\n",
    "### 5) Generación de terrenos aleatorios mediante ruido (fractales)"
   ]
  }
 ],
 "metadata": {
  "kernelspec": {
   "display_name": "Python 3 (ipykernel)",
   "language": "python",
   "name": "python3"
  },
  "language_info": {
   "codemirror_mode": {
    "name": "ipython",
    "version": 3
   },
   "file_extension": ".py",
   "mimetype": "text/x-python",
   "name": "python",
   "nbconvert_exporter": "python",
   "pygments_lexer": "ipython3",
   "version": "3.11.4"
  }
 },
 "nbformat": 4,
 "nbformat_minor": 5
}
